{
  "nbformat": 4,
  "nbformat_minor": 0,
  "metadata": {
    "colab": {
      "name": "Task2_Sparks Foundation.ipynb",
      "provenance": [],
      "collapsed_sections": [],
      "authorship_tag": "ABX9TyNj/l9p/2j8EUEwtwrmIykn",
      "include_colab_link": true
    },
    "kernelspec": {
      "name": "python3",
      "display_name": "Python 3"
    }
  },
  "cells": [
    {
      "cell_type": "markdown",
      "metadata": {
        "id": "view-in-github",
        "colab_type": "text"
      },
      "source": [
        "<a href=\"https://colab.research.google.com/github/damilola2010/Grip_Foundation_task2/blob/main/Task2_Sparks_Foundation.ipynb\" target=\"_parent\"><img src=\"https://colab.research.google.com/assets/colab-badge.svg\" alt=\"Open In Colab\"/></a>"
      ]
    },
    {
      "cell_type": "markdown",
      "metadata": {
        "id": "ZAr3_oFQqnQ4"
      },
      "source": [
        "## Prediction using Supervised ML\n",
        "\n",
        "Predict the score a student will get based on the numbers of hours of study"
      ]
    },
    {
      "cell_type": "markdown",
      "metadata": {
        "id": "9Qx6qUCiCpFy"
      },
      "source": [
        "So, bandicam, my screen recorder only aloows you to record 10 mis, else, you have to pay. so i recordedthe first ten minutes and then for the rest, i wrote my code, cleared the output then i will re-run them. This will allow me record shorter video. You are welcome!"
      ]
    },
    {
      "cell_type": "code",
      "metadata": {
        "id": "ybAYWWaTqtWw"
      },
      "source": [
        "#Import necessary Libraries\n",
        "import pandas as pd\n",
        "import numpy as np\n",
        "import seaborn as sns\n",
        "import matplotlib as mpl\n",
        "import matplotlib.pyplot as plt\n",
        "from scipy import stats\n",
        "import seaborn as sb\n"
      ],
      "execution_count": 26,
      "outputs": []
    },
    {
      "cell_type": "code",
      "metadata": {
        "id": "cu1hIVKNrpKg",
        "colab": {
          "base_uri": "https://localhost:8080/"
        },
        "outputId": "28b4f249-fe5f-49eb-f550-8826173ab8f8"
      },
      "source": [
        "#Loading the dataset\n",
        "score_df = pd.read_csv('https://raw.githubusercontent.com/AdiPersonalWorks/Random/master/student_scores%20-%20student_scores.csv')\n",
        "\n",
        "print('Data downloaded and read into a dataframe!')"
      ],
      "execution_count": 27,
      "outputs": [
        {
          "output_type": "stream",
          "text": [
            "Data downloaded and read into a dataframe!\n"
          ],
          "name": "stdout"
        }
      ]
    },
    {
      "cell_type": "code",
      "metadata": {
        "id": "bNiQeh1sry5N",
        "colab": {
          "base_uri": "https://localhost:8080/",
          "height": 359
        },
        "outputId": "dbd19711-0dc6-4148-f2a6-8318adfa2792"
      },
      "source": [
        "#View he dataset\r\n",
        "score_df.head(10)"
      ],
      "execution_count": 28,
      "outputs": [
        {
          "output_type": "execute_result",
          "data": {
            "text/html": [
              "<div>\n",
              "<style scoped>\n",
              "    .dataframe tbody tr th:only-of-type {\n",
              "        vertical-align: middle;\n",
              "    }\n",
              "\n",
              "    .dataframe tbody tr th {\n",
              "        vertical-align: top;\n",
              "    }\n",
              "\n",
              "    .dataframe thead th {\n",
              "        text-align: right;\n",
              "    }\n",
              "</style>\n",
              "<table border=\"1\" class=\"dataframe\">\n",
              "  <thead>\n",
              "    <tr style=\"text-align: right;\">\n",
              "      <th></th>\n",
              "      <th>Hours</th>\n",
              "      <th>Scores</th>\n",
              "    </tr>\n",
              "  </thead>\n",
              "  <tbody>\n",
              "    <tr>\n",
              "      <th>0</th>\n",
              "      <td>2.5</td>\n",
              "      <td>21</td>\n",
              "    </tr>\n",
              "    <tr>\n",
              "      <th>1</th>\n",
              "      <td>5.1</td>\n",
              "      <td>47</td>\n",
              "    </tr>\n",
              "    <tr>\n",
              "      <th>2</th>\n",
              "      <td>3.2</td>\n",
              "      <td>27</td>\n",
              "    </tr>\n",
              "    <tr>\n",
              "      <th>3</th>\n",
              "      <td>8.5</td>\n",
              "      <td>75</td>\n",
              "    </tr>\n",
              "    <tr>\n",
              "      <th>4</th>\n",
              "      <td>3.5</td>\n",
              "      <td>30</td>\n",
              "    </tr>\n",
              "    <tr>\n",
              "      <th>5</th>\n",
              "      <td>1.5</td>\n",
              "      <td>20</td>\n",
              "    </tr>\n",
              "    <tr>\n",
              "      <th>6</th>\n",
              "      <td>9.2</td>\n",
              "      <td>88</td>\n",
              "    </tr>\n",
              "    <tr>\n",
              "      <th>7</th>\n",
              "      <td>5.5</td>\n",
              "      <td>60</td>\n",
              "    </tr>\n",
              "    <tr>\n",
              "      <th>8</th>\n",
              "      <td>8.3</td>\n",
              "      <td>81</td>\n",
              "    </tr>\n",
              "    <tr>\n",
              "      <th>9</th>\n",
              "      <td>2.7</td>\n",
              "      <td>25</td>\n",
              "    </tr>\n",
              "  </tbody>\n",
              "</table>\n",
              "</div>"
            ],
            "text/plain": [
              "   Hours  Scores\n",
              "0    2.5      21\n",
              "1    5.1      47\n",
              "2    3.2      27\n",
              "3    8.5      75\n",
              "4    3.5      30\n",
              "5    1.5      20\n",
              "6    9.2      88\n",
              "7    5.5      60\n",
              "8    8.3      81\n",
              "9    2.7      25"
            ]
          },
          "metadata": {
            "tags": []
          },
          "execution_count": 28
        }
      ]
    },
    {
      "cell_type": "markdown",
      "metadata": {
        "id": "OlOU7K7nsM5n"
      },
      "source": [
        "## Data Cleaning"
      ]
    },
    {
      "cell_type": "code",
      "metadata": {
        "id": "ZTFu8GRtC95q",
        "colab": {
          "base_uri": "https://localhost:8080/"
        },
        "outputId": "24295603-92a0-4345-cb4b-30b30c8dee96"
      },
      "source": [
        "#Have a look at the shape\r\n",
        "score_df.shape"
      ],
      "execution_count": 29,
      "outputs": [
        {
          "output_type": "execute_result",
          "data": {
            "text/plain": [
              "(25, 2)"
            ]
          },
          "metadata": {
            "tags": []
          },
          "execution_count": 29
        }
      ]
    },
    {
      "cell_type": "code",
      "metadata": {
        "id": "OKc3JAiBr6IM",
        "colab": {
          "base_uri": "https://localhost:8080/"
        },
        "outputId": "cc588514-b775-4b9f-aa13-4c8687ee959a"
      },
      "source": [
        "score_df.info()"
      ],
      "execution_count": 30,
      "outputs": [
        {
          "output_type": "stream",
          "text": [
            "<class 'pandas.core.frame.DataFrame'>\n",
            "RangeIndex: 25 entries, 0 to 24\n",
            "Data columns (total 2 columns):\n",
            " #   Column  Non-Null Count  Dtype  \n",
            "---  ------  --------------  -----  \n",
            " 0   Hours   25 non-null     float64\n",
            " 1   Scores  25 non-null     int64  \n",
            "dtypes: float64(1), int64(1)\n",
            "memory usage: 528.0 bytes\n"
          ],
          "name": "stdout"
        }
      ]
    },
    {
      "cell_type": "code",
      "metadata": {
        "id": "Jk6PSIEssjPd",
        "colab": {
          "base_uri": "https://localhost:8080/",
          "height": 297
        },
        "outputId": "9dbc9720-5af8-40e4-c858-b6549e3cdb73"
      },
      "source": [
        "#Statistical description of our data\n",
        "score_df.describe()"
      ],
      "execution_count": 31,
      "outputs": [
        {
          "output_type": "execute_result",
          "data": {
            "text/html": [
              "<div>\n",
              "<style scoped>\n",
              "    .dataframe tbody tr th:only-of-type {\n",
              "        vertical-align: middle;\n",
              "    }\n",
              "\n",
              "    .dataframe tbody tr th {\n",
              "        vertical-align: top;\n",
              "    }\n",
              "\n",
              "    .dataframe thead th {\n",
              "        text-align: right;\n",
              "    }\n",
              "</style>\n",
              "<table border=\"1\" class=\"dataframe\">\n",
              "  <thead>\n",
              "    <tr style=\"text-align: right;\">\n",
              "      <th></th>\n",
              "      <th>Hours</th>\n",
              "      <th>Scores</th>\n",
              "    </tr>\n",
              "  </thead>\n",
              "  <tbody>\n",
              "    <tr>\n",
              "      <th>count</th>\n",
              "      <td>25.000000</td>\n",
              "      <td>25.000000</td>\n",
              "    </tr>\n",
              "    <tr>\n",
              "      <th>mean</th>\n",
              "      <td>5.012000</td>\n",
              "      <td>51.480000</td>\n",
              "    </tr>\n",
              "    <tr>\n",
              "      <th>std</th>\n",
              "      <td>2.525094</td>\n",
              "      <td>25.286887</td>\n",
              "    </tr>\n",
              "    <tr>\n",
              "      <th>min</th>\n",
              "      <td>1.100000</td>\n",
              "      <td>17.000000</td>\n",
              "    </tr>\n",
              "    <tr>\n",
              "      <th>25%</th>\n",
              "      <td>2.700000</td>\n",
              "      <td>30.000000</td>\n",
              "    </tr>\n",
              "    <tr>\n",
              "      <th>50%</th>\n",
              "      <td>4.800000</td>\n",
              "      <td>47.000000</td>\n",
              "    </tr>\n",
              "    <tr>\n",
              "      <th>75%</th>\n",
              "      <td>7.400000</td>\n",
              "      <td>75.000000</td>\n",
              "    </tr>\n",
              "    <tr>\n",
              "      <th>max</th>\n",
              "      <td>9.200000</td>\n",
              "      <td>95.000000</td>\n",
              "    </tr>\n",
              "  </tbody>\n",
              "</table>\n",
              "</div>"
            ],
            "text/plain": [
              "           Hours     Scores\n",
              "count  25.000000  25.000000\n",
              "mean    5.012000  51.480000\n",
              "std     2.525094  25.286887\n",
              "min     1.100000  17.000000\n",
              "25%     2.700000  30.000000\n",
              "50%     4.800000  47.000000\n",
              "75%     7.400000  75.000000\n",
              "max     9.200000  95.000000"
            ]
          },
          "metadata": {
            "tags": []
          },
          "execution_count": 31
        }
      ]
    },
    {
      "cell_type": "code",
      "metadata": {
        "id": "6fm6YihVsu6A",
        "colab": {
          "base_uri": "https://localhost:8080/"
        },
        "outputId": "d4a53732-cdd0-4fca-843d-71f6be14fa1e"
      },
      "source": [
        "#Check for missing values\n",
        "score_df.isnull().sum()"
      ],
      "execution_count": 32,
      "outputs": [
        {
          "output_type": "execute_result",
          "data": {
            "text/plain": [
              "Hours     0\n",
              "Scores    0\n",
              "dtype: int64"
            ]
          },
          "metadata": {
            "tags": []
          },
          "execution_count": 32
        }
      ]
    },
    {
      "cell_type": "code",
      "metadata": {
        "id": "RHAtYqQktyKN",
        "colab": {
          "base_uri": "https://localhost:8080/"
        },
        "outputId": "30441c7b-166f-435b-a827-c08146d50fe2"
      },
      "source": [
        "#Check for duplicates\n",
        "score_df.duplicated().sum()"
      ],
      "execution_count": 33,
      "outputs": [
        {
          "output_type": "execute_result",
          "data": {
            "text/plain": [
              "0"
            ]
          },
          "metadata": {
            "tags": []
          },
          "execution_count": 33
        }
      ]
    },
    {
      "cell_type": "markdown",
      "metadata": {
        "id": "exfofgo62koX"
      },
      "source": [
        "### Data Visualization and Linearity Check\r\n"
      ]
    },
    {
      "cell_type": "code",
      "metadata": {
        "colab": {
          "base_uri": "https://localhost:8080/",
          "height": 499
        },
        "id": "31EIDryc2qO4",
        "outputId": "4acc1bd5-332a-41a0-bb55-20abcac99a75"
      },
      "source": [
        "plt.figure(figsize=(10,7))\r\n",
        "plt.style.use(\"ggplot\")\r\n",
        "sb.scatterplot(score_df['Hours'],score_df['Scores'])\r\n",
        "plt.show()"
      ],
      "execution_count": 34,
      "outputs": [
        {
          "output_type": "stream",
          "text": [
            "/usr/local/lib/python3.6/dist-packages/seaborn/_decorators.py:43: FutureWarning: Pass the following variables as keyword args: x, y. From version 0.12, the only valid positional argument will be `data`, and passing other arguments without an explicit keyword will result in an error or misinterpretation.\n",
            "  FutureWarning\n"
          ],
          "name": "stderr"
        },
        {
          "output_type": "display_data",
          "data": {
            "image/png": "[encoded data removed]",
            "text/plain": [
              "<Figure size 720x504 with 1 Axes>"
            ]
          },
          "metadata": {
            "tags": []
          }
        }
      ]
    },
    {
      "cell_type": "markdown",
      "metadata": {
        "id": "HEdyEUkCDYu9"
      },
      "source": [
        "In the above, we can see that we have  a linear relationship between the hours studied and score. The score is dependent on the hours studied, hence the score is the target variable"
      ]
    },
    {
      "cell_type": "markdown",
      "metadata": {
        "id": "bUY7ZS3uwxnx"
      },
      "source": [
        "### Test and Train Dataset"
      ]
    },
    {
      "cell_type": "code",
      "metadata": {
        "id": "2tmLauESwYtD"
      },
      "source": [
        "#import the package\n",
        "from sklearn.linear_model import LinearRegression\n",
        "from sklearn.model_selection import train_test_split\n",
        "from sklearn.metrics import r2_score"
      ],
      "execution_count": 35,
      "outputs": []
    },
    {
      "cell_type": "code",
      "metadata": {
        "id": "v1pUTL-bKBrM"
      },
      "source": [
        "Predictor=['Hours']\n",
        "TargetVariable=['Scores']\n",
        "x = score_df[Predictor].values\n",
        "y = score_df[TargetVariable].values"
      ],
      "execution_count": 36,
      "outputs": []
    },
    {
      "cell_type": "code",
      "metadata": {
        "id": "noiygUr6KKtU",
        "colab": {
          "base_uri": "https://localhost:8080/"
        },
        "outputId": "d8000bf3-7ec8-4702-c757-1792ba4fc7f8"
      },
      "source": [
        "x_train, x_test, y_train, y_test = train_test_split(x, y, test_size=0.3, random_state=42)\n",
        "print(x_train.shape, x_test.shape, y_train.shape, y_test.shape)\n",
        "#Using test dataset size as 30% and train as 70%"
      ],
      "execution_count": 37,
      "outputs": [
        {
          "output_type": "stream",
          "text": [
            "(17, 1) (8, 1) (17, 1) (8, 1)\n"
          ],
          "name": "stdout"
        }
      ]
    },
    {
      "cell_type": "code",
      "metadata": {
        "id": "n-AlBupD8FrZ",
        "colab": {
          "base_uri": "https://localhost:8080/"
        },
        "outputId": "ed176f55-9ec8-40ab-b20f-c9fa7fe62dee"
      },
      "source": [
        "print(x_train.shape, x_test.shape, y_train.shape, y_test.shape)\n"
      ],
      "execution_count": 38,
      "outputs": [
        {
          "output_type": "stream",
          "text": [
            "(17, 1) (8, 1) (17, 1) (8, 1)\n"
          ],
          "name": "stdout"
        }
      ]
    },
    {
      "cell_type": "code",
      "metadata": {
        "id": "KK8eRwCUzKID"
      },
      "source": [
        "#Create a classifier\n",
        "classifier = LinearRegression()"
      ],
      "execution_count": 39,
      "outputs": []
    },
    {
      "cell_type": "code",
      "metadata": {
        "id": "GYMjsbTQ4TU2",
        "colab": {
          "base_uri": "https://localhost:8080/"
        },
        "outputId": "5b266326-d744-455a-baef-12f72b86b677"
      },
      "source": [
        "classifier.fit(x_train,y_train)"
      ],
      "execution_count": 40,
      "outputs": [
        {
          "output_type": "execute_result",
          "data": {
            "text/plain": [
              "LinearRegression(copy_X=True, fit_intercept=True, n_jobs=None, normalize=False)"
            ]
          },
          "metadata": {
            "tags": []
          },
          "execution_count": 40
        }
      ]
    },
    {
      "cell_type": "markdown",
      "metadata": {
        "id": "ctVu8UDw3hAx"
      },
      "source": [
        "### Visualize training set"
      ]
    },
    {
      "cell_type": "code",
      "metadata": {
        "colab": {
          "base_uri": "https://localhost:8080/",
          "height": 462
        },
        "id": "HArxDT7X3Qxj",
        "outputId": "1a95b638-8d8e-4bce-811b-e9ac595cb94f"
      },
      "source": [
        "plt.figure(figsize=(9,7))\r\n",
        "plt.scatter(x_train, y_train, color = 'red')\r\n",
        "plt.plot(x_train, classifier.predict(x_train), color = 'blue')\r\n",
        "plt.title('SCORE vs HOURS OF STUDY (Training set)')\r\n",
        "plt.xlabel('HOURS')\r\n",
        "plt.ylabel('SCORE')\r\n",
        "plt.show()"
      ],
      "execution_count": 41,
      "outputs": [
        {
          "output_type": "display_data",
          "data": {
            "image/png": "[encoded data removed]",
            "text/plain": [
              "<Figure size 648x504 with 1 Axes>"
            ]
          },
          "metadata": {
            "tags": []
          }
        }
      ]
    },
    {
      "cell_type": "markdown",
      "metadata": {
        "id": "VHBatb7g3uWJ"
      },
      "source": [
        "### Visualize the test set"
      ]
    },
    {
      "cell_type": "code",
      "metadata": {
        "colab": {
          "base_uri": "https://localhost:8080/",
          "height": 462
        },
        "id": "ioR07JL93yP2",
        "outputId": "ef34a497-96f1-4f67-a282-bc76883bf73e"
      },
      "source": [
        "\r\n",
        "plt.figure(figsize=(9,7))\r\n",
        "plt.scatter(x_test, y_test, color = 'red')\r\n",
        "plt.plot(x_train, classifier.predict(x_train), color = 'blue')\r\n",
        "plt.title('SCORE vs HOURS OF STUDY (Test set)')\r\n",
        "plt.xlabel('HOURS')\r\n",
        "plt.ylabel('SCORE')\r\n",
        "plt.show()"
      ],
      "execution_count": 42,
      "outputs": [
        {
          "output_type": "display_data",
          "data": {
            "image/png": "[encoded data removed]",
            "text/plain": [
              "<Figure size 648x504 with 1 Axes>"
            ]
          },
          "metadata": {
            "tags": []
          }
        }
      ]
    },
    {
      "cell_type": "code",
      "metadata": {
        "id": "SzTMo1Kt4enO",
        "colab": {
          "base_uri": "https://localhost:8080/"
        },
        "outputId": "0e074c84-8c81-43bd-f740-a1bc52679590"
      },
      "source": [
        "classifier.predict(x_test)"
      ],
      "execution_count": 43,
      "outputs": [
        {
          "output_type": "execute_result",
          "data": {
            "text/plain": [
              "array([[83.39168645],\n",
              "       [27.07054902],\n",
              "       [27.07054902],\n",
              "       [69.79692914],\n",
              "       [60.0863882 ],\n",
              "       [29.0126572 ],\n",
              "       [34.83898177],\n",
              "       [52.31795545]])"
            ]
          },
          "metadata": {
            "tags": []
          },
          "execution_count": 43
        }
      ]
    },
    {
      "cell_type": "code",
      "metadata": {
        "id": "2WMtSjUEKxlC",
        "colab": {
          "base_uri": "https://localhost:8080/"
        },
        "outputId": "298e1120-55b8-49f2-c0a6-7726e43e34cd"
      },
      "source": [
        "#Check for accuracy\n",
        "classifier.score(x_test,y_test)"
      ],
      "execution_count": 44,
      "outputs": [
        {
          "output_type": "execute_result",
          "data": {
            "text/plain": [
              "0.9487647340257012"
            ]
          },
          "metadata": {
            "tags": []
          },
          "execution_count": 44
        }
      ]
    },
    {
      "cell_type": "markdown",
      "metadata": {
        "id": "oI9gnNzJLoyl"
      },
      "source": [
        "The accuracy is 94.8%"
      ]
    },
    {
      "cell_type": "markdown",
      "metadata": {
        "id": "oeOFjmEyD4nh"
      },
      "source": [
        "Accuracy of my prediction is 94.8%"
      ]
    },
    {
      "cell_type": "code",
      "metadata": {
        "id": "S-4goP46Llnk",
        "colab": {
          "base_uri": "https://localhost:8080/"
        },
        "outputId": "447dfd03-9ffa-4196-feb0-08bc0b5d5a86"
      },
      "source": [
        "#Check for slope\n",
        "classifier.coef_"
      ],
      "execution_count": 45,
      "outputs": [
        {
          "output_type": "execute_result",
          "data": {
            "text/plain": [
              "array([[9.71054094]])"
            ]
          },
          "metadata": {
            "tags": []
          },
          "execution_count": 45
        }
      ]
    },
    {
      "cell_type": "code",
      "metadata": {
        "id": "LyY7ZG2TMOxR",
        "colab": {
          "base_uri": "https://localhost:8080/"
        },
        "outputId": "3f758281-fe09-4fed-d483-06e03da12c59"
      },
      "source": [
        "#Check for intercept\n",
        "classifier.intercept_"
      ],
      "execution_count": 46,
      "outputs": [
        {
          "output_type": "execute_result",
          "data": {
            "text/plain": [
              "array([2.79419668])"
            ]
          },
          "metadata": {
            "tags": []
          },
          "execution_count": 46
        }
      ]
    },
    {
      "cell_type": "markdown",
      "metadata": {
        "id": "UDRmz50sNavw"
      },
      "source": [
        "### Score of a student that studied for 9.25 hours"
      ]
    },
    {
      "cell_type": "code",
      "metadata": {
        "id": "xmJcunx-NKkB",
        "colab": {
          "base_uri": "https://localhost:8080/"
        },
        "outputId": "f7228077-6f09-4493-e5ae-c954ed78c34c"
      },
      "source": [
        "score = classifier.predict([[9.25]])\n",
        "\n",
        "print(score)"
      ],
      "execution_count": 47,
      "outputs": [
        {
          "output_type": "stream",
          "text": [
            "[[92.61670034]]\n"
          ],
          "name": "stdout"
        }
      ]
    },
    {
      "cell_type": "markdown",
      "metadata": {
        "id": "bGBzUg98OEWX"
      },
      "source": [
        "A student that studied for 9.25 hours per day will score 92.6"
      ]
    },
    {
      "cell_type": "code",
      "metadata": {
        "id": "HMz28ANlNosh"
      },
      "source": [
        ""
      ],
      "execution_count": null,
      "outputs": []
    }
  ]
}